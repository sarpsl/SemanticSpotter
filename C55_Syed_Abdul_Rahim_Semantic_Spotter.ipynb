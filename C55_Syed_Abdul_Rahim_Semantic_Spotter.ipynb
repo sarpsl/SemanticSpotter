{
 "cells": [
  {
   "cell_type": "markdown",
   "metadata": {},
   "source": [
    "# <font color='blue'>Index</font>\n",
    "- <font color='blue'>1. Install required libraries</font>\n",
    "- <font color='blue'>2. Import required libraries</font>\n",
    "- <font color='blue'>3. Initialize OpenAI with Key</font>\n",
    "- <font color='blue'>4. Loading pdf as document using SimpleDirectoryReader</font>\n",
    "- <font color='blue'>5. Parsing document into nodes</font>\n",
    "- <font color='blue'>6. Generating vector index for the nodes</font>\n",
    "- <font color='blue'>7. Initialize Query engine</font>\n",
    "- <font color='blue'>8. Method to retrieve and generate response with context</font>\n",
    "- <font color='blue'>9. Testing</font>\n",
    "    - <font color='blue'>9.1 Case #1</font>\n",
    "    - <font color='blue'>9.2 Case #2</font>\n",
    "    - <font color='blue'>9.3 Case #3</font>\n",
    "    - <font color='blue'>9.4 Case #4</font>\n",
    "- <font color='blue'>10. Chat Conversation</font>"
   ]
  },
  {
   "cell_type": "markdown",
   "metadata": {},
   "source": [
    "## <font color='blue'>1. Install required libraries</font>"
   ]
  },
  {
   "cell_type": "code",
   "execution_count": 4,
   "metadata": {},
   "outputs": [],
   "source": [
    "# !pip install pandas\n",
    "# !pip install llama-index\n",
    "# !pip install openai\n",
    "# !pip install tqdm"
   ]
  },
  {
   "cell_type": "markdown",
   "metadata": {},
   "source": [
    "## <font color='blue'>2. Import required libraries</font>"
   ]
  },
  {
   "cell_type": "code",
   "execution_count": 5,
   "metadata": {},
   "outputs": [],
   "source": [
    "import pandas as pd\n",
    "from llama_index.core.node_parser import SimpleNodeParser\n",
    "from llama_index.core import VectorStoreIndex, Document\n",
    "import openai\n",
    "from llama_index.core import SimpleDirectoryReader\n",
    "from tqdm import tqdm"
   ]
  },
  {
   "cell_type": "markdown",
   "metadata": {},
   "source": [
    "## <font color='blue'>3. Initialize OpenAI with Key</font>"
   ]
  },
  {
   "cell_type": "code",
   "execution_count": 6,
   "metadata": {},
   "outputs": [],
   "source": [
    "# Set your OpenAI API key\n",
    "with open(\"openai_api_key.txt\", \"r\") as f:\n",
    "  openai.api_key = ' '.join(f.readlines())"
   ]
  },
  {
   "cell_type": "markdown",
   "metadata": {},
   "source": [
    "## <font color='blue'>4. Loading pdf as document using SimpleDirectoryReader</font>"
   ]
  },
  {
   "cell_type": "code",
   "execution_count": 7,
   "metadata": {},
   "outputs": [
    {
     "name": "stdout",
     "output_type": "stream",
     "text": [
      "Loaded 35 docs\n"
     ]
    }
   ],
   "source": [
    "reader = SimpleDirectoryReader(input_dir=\"./\", required_exts=[\".pdf\"])\n",
    "\n",
    "documents = reader.load_data()\n",
    "print(f\"Loaded {len(documents)} docs\")"
   ]
  },
  {
   "cell_type": "markdown",
   "metadata": {},
   "source": [
    "## <font color='blue'>5. Parsing document into nodes</font>"
   ]
  },
  {
   "cell_type": "code",
   "execution_count": 8,
   "metadata": {},
   "outputs": [
    {
     "name": "stderr",
     "output_type": "stream",
     "text": [
      "Parsing documents: 100%|██████████| 35/35 [00:00<00:00, 230.74it/s]\n"
     ]
    }
   ],
   "source": [
    "# Initialize the parser and parse the documents into nodes\n",
    "parser = SimpleNodeParser.from_defaults()\n",
    "\n",
    "# Using tqdm to show progress for document parsing\n",
    "nodes = []\n",
    "for doc in tqdm(documents, desc=\"Parsing documents\"):\n",
    "    nodes.extend(parser.get_nodes_from_documents([doc]))"
   ]
  },
  {
   "cell_type": "markdown",
   "metadata": {},
   "source": [
    "## <font color='blue'>6. Generating vector index for the nodes</font>"
   ]
  },
  {
   "cell_type": "code",
   "execution_count": 9,
   "metadata": {},
   "outputs": [],
   "source": [
    "# Using tqdm to show progress for indexing\n",
    "index = VectorStoreIndex(nodes)"
   ]
  },
  {
   "cell_type": "markdown",
   "metadata": {},
   "source": [
    "## <font color='blue'>7. Initialize Query engine</font>"
   ]
  },
  {
   "cell_type": "code",
   "execution_count": 10,
   "metadata": {},
   "outputs": [],
   "source": [
    "# Create the query engine from the index\n",
    "query_engine = index.as_query_engine()"
   ]
  },
  {
   "cell_type": "markdown",
   "metadata": {},
   "source": [
    "## <font color='blue'>8. Method to retrieve and generate response with context</font>"
   ]
  },
  {
   "cell_type": "code",
   "execution_count": 11,
   "metadata": {},
   "outputs": [],
   "source": [
    "# Initialize conversation context\n",
    "conversation_context = \"\"\n",
    "\n",
    "def retrieve_and_generate(query, initial=True):\n",
    "    global conversation_context\n",
    "\n",
    "    # Retrieve relevant documents from the index\n",
    "    retrieved_docs = query_engine.query(query)\n",
    "\n",
    "    # Combine the content of retrieved documents\n",
    "    context = \"\\n\".join(doc.text for doc in retrieved_docs.source_nodes if hasattr(doc, 'text'))\n",
    "\n",
    "    # Update conversation context\n",
    "    if initial:\n",
    "        conversation_context = \"\"\n",
    "    conversation_context += f\"\\nUser: {query}\\nDocuments: {context}\"\n",
    "    \n",
    "    # Use OpenAI's gpt-3.5-turbo to generate a response based on the context\n",
    "    messages = [\n",
    "        {\"role\":\"system\", \"content\": \"Only answer from the context provided. If the context is not relevant, say 'I don't know'.\"},\n",
    "        {\"role\":\"user\", \"content\":f\"Context: {conversation_context}\\n\\nAnswer:\"}\n",
    "        ]\n",
    "\n",
    "    response = openai.chat.completions.create(\n",
    "        model=\"gpt-3.5-turbo\",\n",
    "        messages=messages,\n",
    "        max_tokens=150\n",
    "    )\n",
    "        \n",
    "    # Update conversation context with the LLM's response\n",
    "    conversation_context += f\"\\nAI: {response.choices[0].message.content.strip()}\"\n",
    "\n",
    "    return response.choices[0].message.content.strip()"
   ]
  },
  {
   "cell_type": "markdown",
   "metadata": {},
   "source": [
    "## <font color='blue'>9. Testing</font>"
   ]
  },
  {
   "cell_type": "markdown",
   "metadata": {},
   "source": [
    "### <font color='blue'>9.1 Case #1</font>"
   ]
  },
  {
   "cell_type": "code",
   "execution_count": 12,
   "metadata": {},
   "outputs": [
    {
     "name": "stdout",
     "output_type": "stream",
     "text": [
      "\n",
      "Question: What is this document talking about?\n",
      "Answer: The document is talking about Project Goals, Data Sources, Design Choices, Framework Choice, Document Parsing, Vector Storage, Query Processing, Integration with LLM, Challenges Faced, Complexity of PDF Documents, Indexing Efficiency, Query Accuracy, Flowchart, Setup, Usage, Import Libraries, Run the Script, Query the System, Troubleshooting, PDF Parsing Issues, and Indexing Errors.\n",
      "\n",
      "Question: Can you list the policy types for this document?\n",
      "Answer: The policy types for this document are HDFC Life Group Term Life.\n"
     ]
    }
   ],
   "source": [
    "initial_query = \"What is this document talking about?\"\n",
    "initial_answer = retrieve_and_generate(initial_query)\n",
    "print(\"\\nQuestion:\", initial_query)\n",
    "print(\"Answer:\", initial_answer)\n",
    "\n",
    "follow_up_query = \"Can you list the policy types for this document?\"\n",
    "follow_up_answer = retrieve_and_generate(follow_up_query, False)\n",
    "print(\"\\nQuestion:\", follow_up_query)\n",
    "print(\"Answer:\", follow_up_answer)"
   ]
  },
  {
   "cell_type": "markdown",
   "metadata": {},
   "source": [
    "### <font color='blue'>9.2 Case #2</font>"
   ]
  },
  {
   "cell_type": "code",
   "execution_count": 13,
   "metadata": {},
   "outputs": [
    {
     "name": "stdout",
     "output_type": "stream",
     "text": [
      "\n",
      "Question: What are the benefits payable under this policy?\n",
      "Answer: The benefits payable under this policy include the Sum Assured in the event of the death of the Insured Member, Additional Sum Assured in case of Accidental Death, and any other sums specified under the Policy. The payment of benefits will be made to the Beneficiary of the Insured Member or the legal heirs if no nominee is designated. The benefits will be payable by permissible modes as allowed under the Regulations.\n",
      "\n",
      "Question: Who are the beneficiaries?\n",
      "Answer: The beneficiaries under this policy are the Insured Member's nominee or legal heir in case no nominee is designated.\n",
      "\n",
      "Question: What is the mode of payment?\n",
      "Answer: The mode of payment for the benefits under this policy shall be in the manner and currency allowed/permitted under the Regulations and shall be payable by permissible modes.\n"
     ]
    }
   ],
   "source": [
    "initial_query = \"What are the benefits payable under this policy?\"\n",
    "initial_answer = retrieve_and_generate(initial_query)\n",
    "print(\"\\nQuestion:\", initial_query)\n",
    "print(\"Answer:\", initial_answer)\n",
    "\n",
    "follow_up_query = \"Who are the beneficiaries?\"\n",
    "follow_up_answer = retrieve_and_generate(follow_up_query, False)\n",
    "print(\"\\nQuestion:\", follow_up_query)\n",
    "print(\"Answer:\", follow_up_answer)\n",
    "\n",
    "follow_up_query = \"What is the mode of payment?\"\n",
    "follow_up_answer = retrieve_and_generate(follow_up_query, False)\n",
    "print(\"\\nQuestion:\", follow_up_query)\n",
    "print(\"Answer:\", follow_up_answer)"
   ]
  },
  {
   "cell_type": "markdown",
   "metadata": {},
   "source": [
    "### <font color='blue'>9.3 Case #3</font>"
   ]
  },
  {
   "cell_type": "code",
   "execution_count": 22,
   "metadata": {},
   "outputs": [
    {
     "name": "stdout",
     "output_type": "stream",
     "text": [
      "\n",
      "Question: List all 'active' related definitions\n",
      "Answer: Active Service shall mean employees employed with the Policyholder  on a full time permanent basis and who are actively working on a day which is one of the Policyholder ’s scheduled work days and are performing in the customary manner all the regular duties of his employm ent with the Policyholder  on a full -time basis that day either at one of the Policyholder ’s business establishments, or at some location to which the Policyholder ’s business requires him to travel. An employee will be considered in Active Service on a day, which is not one of the Policyholder ’s scheduled workdays only if he was performing in the customary manner all of the regular duties of his employment on the preceding scheduled workday. This is only applicable for\n",
      "\n",
      "Question: Is Active and Death related\n",
      "Answer: No, the term 'Active' is related to employment status and participation, not to death.\n"
     ]
    }
   ],
   "source": [
    "initial_query = \"List all 'active' related definitions\"\n",
    "initial_answer = retrieve_and_generate(initial_query)\n",
    "print(\"\\nQuestion:\", initial_query)\n",
    "print(\"Answer:\", initial_answer)\n",
    "\n",
    "follow_up_query = \"Is Active and Death related\"\n",
    "follow_up_answer = retrieve_and_generate(follow_up_query, False)\n",
    "print(\"\\nQuestion:\", follow_up_query)\n",
    "print(\"Answer:\", follow_up_answer)"
   ]
  },
  {
   "cell_type": "markdown",
   "metadata": {},
   "source": [
    "### <font color='blue'>9.4 Case #4</font>"
   ]
  },
  {
   "cell_type": "code",
   "execution_count": 19,
   "metadata": {},
   "outputs": [
    {
     "name": "stdout",
     "output_type": "stream",
     "text": [
      "\n",
      "Question: Frame 5 questions basing on the document\n",
      "Answer: 1. What is the time limit specified in Section 45 of the Insurance Act, 1938, within which a policy of Life Insurance cannot be called into question?\n",
      "2. Under what circumstances can a Policy of Life Insurance be called into question on the ground of fraud within 3 years?\n",
      "3. What constitutes fraud according to Section 45 of the Insurance Act, 1938, regarding Life Insurance Policy?\n",
      "4. When can a Life insurance Policy be called into question within 3 years due to a misstatement or suppression of a material fact?\n",
      "5. What action should the insurer take if a Policy of Life Insurance is repudiated on the ground of misstatement and not fraud?\n",
      "\n",
      "Question: Sort those questions basing on expectancy and get me top 3\n",
      "Answer: 1. What is the time limit specified in Section 45 of the Insurance Act, 1938, within which a policy of Life Insurance cannot be called into question?\n",
      "2. When can a Life insurance Policy be called into question within 3 years due to a misstatement or suppression of a material fact?\n",
      "3. Under what circumstances can a Policy of Life Insurance be called into question on the ground of fraud within 3 years?\n"
     ]
    }
   ],
   "source": [
    "initial_query = \"Frame 5 questions basing on the document\"\n",
    "initial_answer = retrieve_and_generate(initial_query)\n",
    "print(\"\\nQuestion:\", initial_query)\n",
    "print(\"Answer:\", initial_answer)\n",
    "\n",
    "follow_up_query = \"Sort those questions basing on expectancy and get me top 3\"\n",
    "follow_up_answer = retrieve_and_generate(follow_up_query, False)\n",
    "print(\"\\nQuestion:\", follow_up_query)\n",
    "print(\"Answer:\", follow_up_answer)"
   ]
  },
  {
   "cell_type": "markdown",
   "metadata": {},
   "source": [
    "### <font color='blue'>10. Chat Conversation</font>"
   ]
  },
  {
   "cell_type": "code",
   "execution_count": 20,
   "metadata": {},
   "outputs": [],
   "source": [
    "def initialize_conv():\n",
    "  print(\"1. new: for New Conversation\")\n",
    "  print(\"2. exit: once you are done\")\n",
    "  print(\"3. Your initial / follow-up question\")\n",
    "  new_conversation = True\n",
    "  while True:\n",
    "    user_input = input()\n",
    "    if user_input.lower() == 'exit':\n",
    "      print('\\nExiting the program... bye')\n",
    "      break\n",
    "    elif user_input.lower() == 'new':\n",
    "      print(\"\\nStarting a new conversation\")\n",
    "      new_conversation = True\n",
    "    else:\n",
    "      question = user_input\n",
    "      answer = retrieve_and_generate(question, new_conversation)\n",
    "      print(\"\\nQuestion:\", question)\n",
    "      print(\"Answer:\", answer)\n",
    "      new_conversation = False"
   ]
  },
  {
   "cell_type": "code",
   "execution_count": 21,
   "metadata": {},
   "outputs": [
    {
     "name": "stdout",
     "output_type": "stream",
     "text": [
      "1. new: for New Conversation\n",
      "2. exit: once you are done\n",
      "3. Your initial / follow-up question\n",
      "\n",
      "Question: Explain policy terms\n",
      "Answer: The leaflet containing the simplified version of the provisions of Section 45 is enclosed as Annexure B for reference.\n",
      "\n",
      "Question: List 3 terms\n",
      "Answer: - Basic Policy Contract\n",
      "- Fraud and Misstatement\n",
      "- Eligibility Criteria\n",
      "\n",
      "Starting a new conversation\n",
      "\n",
      "Question: What is policy expiration?\n",
      "Answer: Policy expiration occurs when the Premium due is not paid within the Grace Period, leading to the Policy lapsing and the Company ceasing to be liable to pay any Benefits under the lapsed Policy.\n",
      "\n",
      "Question: What are the terms of policy expiration?\n",
      "Answer: Policy expiration occurs when the Premium due is not paid within the Grace Period, leading to the Policy lapsing and the Company ceasing to be liable to pay any Benefits under the lapsed Policy.\n",
      "\n",
      "Exiting the program... bye\n"
     ]
    }
   ],
   "source": [
    "initialize_conv()"
   ]
  }
 ],
 "metadata": {
  "kernelspec": {
   "display_name": "upGrad_3_9",
   "language": "python",
   "name": "python3"
  },
  "language_info": {
   "codemirror_mode": {
    "name": "ipython",
    "version": 3
   },
   "file_extension": ".py",
   "mimetype": "text/x-python",
   "name": "python",
   "nbconvert_exporter": "python",
   "pygments_lexer": "ipython3",
   "version": "3.9.19"
  }
 },
 "nbformat": 4,
 "nbformat_minor": 2
}
